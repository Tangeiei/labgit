{
  "nbformat": 4,
  "nbformat_minor": 0,
  "metadata": {
    "colab": {
      "provenance": []
    },
    "kernelspec": {
      "name": "python3",
      "display_name": "Python 3"
    },
    "language_info": {
      "name": "python"
    }
  },
  "cells": [
    {
      "cell_type": "code",
      "source": [
        "class Pokemon:\n",
        "    def __init__(self, name, type, level, health):\n",
        "        self.__name = name\n",
        "        self.__type = type\n",
        "        self.__level = level\n",
        "        self.__health = health\n",
        "\n",
        "    def get_name(self):\n",
        "        return self.__name\n",
        "    def set_name(self, name):\n",
        "        self.__name = name\n",
        "\n",
        "    def get_type(self):\n",
        "        return self.__type\n",
        "    def set_type(self, type):\n",
        "        self.__type = type\n",
        "\n",
        "    def get_level(self):\n",
        "        return self.__level\n",
        "    def set_level(self, level):\n",
        "        if level >= 0:\n",
        "          self.__level = level\n",
        "        else :\n",
        "          print('ข้อมูลผิดพลาด')\n",
        "\n",
        "    def get_health(self):\n",
        "        return self.__health\n",
        "    def set_health(self, health):\n",
        "        self.__health = health\n",
        "\n",
        "\n",
        "    def attack(self, target):\n",
        "        target.take_damage(self.__level * 5)\n",
        "        print(f\"{self.__name} attacks {target.get_name()}!\")\n",
        "\n",
        "    def take_damage(self, damage):\n",
        "        self.__health -= damage\n",
        "        print(f\"{self.__name} takes {damage} damage! HP left: {self.__health}\")\n",
        "\n",
        "    def level_up(self):\n",
        "        self.__level += 1\n",
        "        self.__health += 10\n",
        "        print(f\"{self.__name} leveled up to {self.__level}!\")\n",
        "\n",
        "    def show_details(self):\n",
        "        print(f\"Name: {self.__name}\")\n",
        "        print(f\"Type: {self.__type}\")\n",
        "        print(f\"Level: {self.__level}\")\n",
        "        print(f\"Health: {self.__health}\")"
      ],
      "metadata": {
        "id": "D52oWt7tTGSF"
      },
      "execution_count": 34,
      "outputs": []
    },
    {
      "cell_type": "code",
      "source": [
        "class Pokedex:\n",
        "      def __init__(self):\n",
        "        self.__pokemons = []\n",
        "\n",
        "      def catch(self, pokemon):\n",
        "        self.__pokemons.append(pokemon)\n",
        "        print(f\"Added {pokemon.get_name} to Pokedex.\")\n",
        "\n",
        "      def release(self, pokemon):\n",
        "        if pokemon in self.__pokemons:\n",
        "            self.__pokemons.remove(pokemon)\n",
        "            print(f\"{pokemon.get_name} has been released from Pokedex.\")\n",
        "        else:\n",
        "            print(f\"{pokemon.get_name} is not in the Pokedex.\")\n",
        "\n",
        "      def find_pokemon(self, name):\n",
        "        for pokemon in self.__pokemons:\n",
        "          if pokemon.get_name() == name:\n",
        "            return pokemon\n",
        "        print(\"Pokemon not found!\")\n",
        "        return None"
      ],
      "metadata": {
        "id": "ZTpRn2PGg5FD"
      },
      "execution_count": 35,
      "outputs": []
    },
    {
      "cell_type": "code",
      "source": [
        "class Trainer:\n",
        "    def __init__(self, name, pokedex):\n",
        "        self.__name = name\n",
        "        self.__pokedex = pokedex\n",
        "\n",
        "    def catch_pokemon(self, pokemon):\n",
        "        self.__pokedex.catch(pokemon)\n",
        "        print(f\"{self.__name} caught {pokemon.get_name()}!\")\n",
        "\n",
        "    def train_pokemon(self, pokemon_name):\n",
        "        pokemon = self.__pokedex.find_pokemon(pokemon_name)\n",
        "        if pokemon:\n",
        "             pokemon.level_up()\n",
        "             print(f\"{self.__name} trained {pokemon_name}!\")\n",
        "        else:\n",
        "            print(f\"{pokemon_name} is not in {self.name}'s Pokedex.\")\n",
        "\n",
        "    def release_pokemon(self, pokemon_name):\n",
        "        pokemon = self.__pokedex.find_pokemon(pokemon_name)\n",
        "        if pokemon:\n",
        "           self.__pokedex.release(pokemon)\n",
        "           print(f\"{self.__name} released {pokemon.get_name()}.\")\n",
        "        else:\n",
        "          print(f\"{pokemon_name} is not in {self.__name}'s Pokedex.\")\n"
      ],
      "metadata": {
        "id": "mmJJTNa0NtO3"
      },
      "execution_count": 36,
      "outputs": []
    },
    {
      "cell_type": "code",
      "source": [
        "pokedex = Pokedex()\n",
        "charizard = Pokemon('CharizardEx', 'fire', 50 , 150)\n",
        "satoshi = Trainer('Satoshi', pokedex)\n",
        "satoshi.catch_pokemon(charizard)\n",
        "\n",
        "print('\\n-------Pokedex-------')\n",
        "charizard = pokedex.find_pokemon('CharizardEx')\n",
        "charizard.show_details()\n",
        "print('-------Pokedex-------\\n')\n",
        "\n",
        "satoshi.train_pokemon('CharizardEx')\n",
        "satoshi.train_pokemon('CharizardEx')\n",
        "satoshi.release_pokemon('CharizardEx')\n"
      ],
      "metadata": {
        "id": "_IxSHrRUN5yv",
        "colab": {
          "base_uri": "https://localhost:8080/"
        },
        "outputId": "4e25d28d-8726-43b5-d6e9-f9da46ec0616"
      },
      "execution_count": 37,
      "outputs": [
        {
          "output_type": "stream",
          "name": "stdout",
          "text": [
            "Added <bound method Pokemon.get_name of <__main__.Pokemon object at 0x79305f6a8e10>> to Pokedex.\n",
            "Satoshi caught CharizardEx!\n",
            "\n",
            "-------Pokedex-------\n",
            "Name: CharizardEx\n",
            "Type: fire\n",
            "Level: 50\n",
            "Health: 150\n",
            "-------Pokedex-------\n",
            "\n",
            "CharizardEx leveled up to 51!\n",
            "Satoshi trained CharizardEx!\n",
            "CharizardEx leveled up to 52!\n",
            "Satoshi trained CharizardEx!\n",
            "<bound method Pokemon.get_name of <__main__.Pokemon object at 0x79305f6a8e10>> has been released from Pokedex.\n",
            "Satoshi released CharizardEx.\n"
          ]
        }
      ]
    }
  ]
}